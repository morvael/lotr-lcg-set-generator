{
 "cells": [
  {
   "cell_type": "code",
   "execution_count": null,
   "metadata": {},
   "outputs": [],
   "source": [
    "import logging\n",
    "import time\n",
    "import lotr\n",
    "\n",
    "logging.basicConfig(level=logging.INFO, format='%(asctime)s: %(message)s')"
   ]
  },
  {
   "cell_type": "code",
   "execution_count": null,
   "metadata": {},
   "outputs": [],
   "source": [
    "conf = lotr.read_conf()"
   ]
  },
  {
   "cell_type": "code",
   "execution_count": null,
   "metadata": {},
   "outputs": [],
   "source": [
    "timestamp = time.time()\n",
    "lotr.reset_project_folders(conf)\n",
    "lotr.download_sheet(conf)\n",
    "sets = lotr.get_sets(conf)\n",
    "\n",
    "changes = False\n",
    "for set_data in sets:\n",
    "    set_id, set_name, set_row = set_data\n",
    "    if conf['octgn']:\n",
    "        lotr.generate_octgn_xml(set_id, set_name, set_row)\n",
    "\n",
    "    lotr.copy_custom_images(conf, set_id, set_name)\n",
    "    for lang in conf['languages']:\n",
    "        lotr.generate_xml(conf, set_id, set_name, set_row, lang)\n",
    "        lotr.update_xml(conf, set_id, set_name, lang)\n",
    "        new_hash, old_hash = lotr.calculate_hashes(set_id, set_name, lang)\n",
    "        if new_hash != old_hash:\n",
    "            changes = True\n",
    "\n",
    "        lotr.copy_raw_images(conf, set_id, set_name, lang)\n",
    "        lotr.copy_xml(set_id, set_name, lang)\n",
    "\n",
    "if changes:\n",
    "    if conf['octgn'] and conf['octgn_destination_path']:\n",
    "        lotr.copy_octgn_outputs(conf)\n",
    "\n",
    "    lotr.create_project()\n",
    "else:\n",
    "    logging.info('No changes since the last run, skipping')\n",
    "\n",
    "logging.info('Done (%ss)', round(time.time() - timestamp, 3))"
   ]
  },
  {
   "cell_type": "markdown",
   "metadata": {},
   "source": [
    "### Strange Eons Part:\n",
    "\n",
    "1. Open `setGenerator.seproject` in Strange Eons.\n",
    "2. Run `Script/makeCards` script by double clicking it.\n",
    "3. Once completed, close Strange Eons (wait until it finished packing the project)."
   ]
  },
  {
   "cell_type": "code",
   "execution_count": null,
   "metadata": {},
   "outputs": [],
   "source": [
    "timestamp = time.time()\n",
    "for set_data in sets:\n",
    "    set_id, set_name, _ = set_data\n",
    "    for lang in conf['languages']:\n",
    "        skip_set, skip_ids = lotr.get_skip_info(set_id, set_name, lang)\n",
    "        if skip_set:\n",
    "            logging.info('[%s, %s] No changes since the last run,'\n",
    "                         ' skipping', set_name, lang)\n",
    "            continue\n",
    "\n",
    "        if conf['nobleed'][lang]:\n",
    "            lotr.generate_png300_nobleed(conf, set_id, set_name, lang, skip_ids)\n",
    "\n",
    "        if 'db' in conf['outputs'][lang]:\n",
    "            lotr.generate_png300_db(conf, set_id, set_name, lang, skip_ids)\n",
    "            lotr.generate_db(set_id, set_name, lang)\n",
    "\n",
    "        if 'octgn' in conf['outputs'][lang]:\n",
    "            lotr.generate_png300_octgn(set_id, set_name, lang, skip_ids)\n",
    "            lotr.generate_octgn(set_id, set_name, lang)\n",
    "\n",
    "        if 'pdf' in conf['outputs'][lang]:\n",
    "            lotr.generate_png300_pdf(conf, set_id, set_name, lang, skip_ids)\n",
    "            lotr.generate_pdf(conf, set_id, set_name, lang)\n",
    "\n",
    "        if 'makeplayingcards' in conf['outputs'][lang]:\n",
    "            lotr.generate_png800_bleedmpc(conf, set_id, set_name, lang, skip_ids)\n",
    "            lotr.generate_mpc(conf, set_id, set_name, lang)\n",
    "\n",
    "        if 'drivethrucards' in conf['outputs'][lang]:\n",
    "            lotr.generate_jpg300_bleeddtc(conf, set_id, set_name, lang, skip_ids)\n",
    "            lotr.generate_dtc(conf, set_id, set_name, lang)\n",
    "\n",
    "logging.info('Done (%ss)', round(time.time() - timestamp, 3))"
   ]
  },
  {
   "cell_type": "markdown",
   "metadata": {},
   "source": [
    "Now there should be the following outputs:\n",
    "\n",
    "- `Output/OCTGN/<set name>/`: `<octgn id>/set.xml` and `<set name>.<language>.o8c` image packs for OCTGN (300 dpi PNG).\n",
    "- `Output/DB/<set name>.<language>/`: 300 dpi PNG images for general purposes.\n",
    "- `Output/PDF/<set name>.<language>/`: PDF files in `A4` and `letter` format for home printing.\n",
    "- `Output/DriveThruCards/<set name>.<language>/`: `zip` and `7z` archives of 300 dpi JPG images to be printed on DriveThruCards.com.\n",
    "- `Output/MakePlayingCards/<set name>.<language>/`: `zip` and `7z` archives of 800 dpi PNG images to be printed on MakePlayingCards.com.\n",
    "\n",
    "Additionally, if you specified `octgn_destination_path`, OCTGN outputs will be copied there."
   ]
  }
 ],
 "metadata": {
  "kernelspec": {
   "display_name": "Python 3",
   "language": "python",
   "name": "python3"
  },
  "language_info": {
   "codemirror_mode": {
    "name": "ipython",
    "version": 3
   },
   "file_extension": ".py",
   "mimetype": "text/x-python",
   "name": "python",
   "nbconvert_exporter": "python",
   "pygments_lexer": "ipython3",
   "version": "3.7.8"
  }
 },
 "nbformat": 4,
 "nbformat_minor": 4
}
